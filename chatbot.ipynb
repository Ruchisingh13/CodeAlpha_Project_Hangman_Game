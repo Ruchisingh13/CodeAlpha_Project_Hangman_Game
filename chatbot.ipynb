{
  "nbformat": 4,
  "nbformat_minor": 0,
  "metadata": {
    "colab": {
      "provenance": []
    },
    "kernelspec": {
      "name": "python3",
      "display_name": "Python 3"
    },
    "language_info": {
      "name": "python"
    }
  },
  "cells": [
    {
      "cell_type": "code",
      "execution_count": 1,
      "metadata": {
        "id": "fhSIhUkhNLGD"
      },
      "outputs": [],
      "source": [
        "import io\n",
        "\n",
        "import random\n",
        "\n",
        "import string\n",
        "\n",
        "import warnings\n",
        "\n",
        "import numpy as np\n",
        "\n",
        "from sklearn.feature_extraction.text import TfidfVectorizer\n",
        "\n",
        "from sklearn.metrics. pairwise import cosine_similarity\n",
        "\n",
        "import warnings\n",
        "\n",
        "warnings.filterwarnings(\"ignore\" )"
      ]
    },
    {
      "cell_type": "code",
      "source": [
        "pip install nltk"
      ],
      "metadata": {
        "colab": {
          "base_uri": "https://localhost:8080/"
        },
        "id": "ourw_2QtNY5b",
        "outputId": "3a66f371-a242-4c12-aff7-e8bffe0edbdb"
      },
      "execution_count": 2,
      "outputs": [
        {
          "output_type": "stream",
          "name": "stdout",
          "text": [
            "Requirement already satisfied: nltk in /usr/local/lib/python3.10/dist-packages (3.8.1)\n",
            "Requirement already satisfied: click in /usr/local/lib/python3.10/dist-packages (from nltk) (8.1.7)\n",
            "Requirement already satisfied: joblib in /usr/local/lib/python3.10/dist-packages (from nltk) (1.3.2)\n",
            "Requirement already satisfied: regex>=2021.8.3 in /usr/local/lib/python3.10/dist-packages (from nltk) (2023.6.3)\n",
            "Requirement already satisfied: tqdm in /usr/local/lib/python3.10/dist-packages (from nltk) (4.66.1)\n"
          ]
        }
      ]
    },
    {
      "cell_type": "code",
      "source": [
        "import nltk\n",
        "\n",
        "from nltk.stem import WordNetLemmatizer\n",
        "\n",
        "nltk.download('popular' , quiet=True)\n"
      ],
      "metadata": {
        "colab": {
          "base_uri": "https://localhost:8080/"
        },
        "id": "tS2lPLEeNd0A",
        "outputId": "6bd65ad4-26df-4f3a-a7e7-97cadaea3543"
      },
      "execution_count": 3,
      "outputs": [
        {
          "output_type": "execute_result",
          "data": {
            "text/plain": [
              "True"
            ]
          },
          "metadata": {},
          "execution_count": 3
        }
      ]
    },
    {
      "cell_type": "code",
      "source": [
        "from google.colab import drive\n",
        "drive.mount('/content/drive')\n",
        "f = open('/content/chatbot.txt', 'r', errors = 'ignore')\n",
        "raw = f.read()\n",
        "raw = raw.lower()\n"
      ],
      "metadata": {
        "colab": {
          "base_uri": "https://localhost:8080/"
        },
        "id": "WZ7QhwU8NnG8",
        "outputId": "a4da8e4d-6ff2-495a-b28b-a82c1997f8bd"
      },
      "execution_count": 4,
      "outputs": [
        {
          "output_type": "stream",
          "name": "stdout",
          "text": [
            "Mounted at /content/drive\n"
          ]
        }
      ]
    },
    {
      "cell_type": "code",
      "source": [
        "sent_tokens = nltk.sent_tokenize(raw)\n",
        "\n",
        "word_tokens = nltk.word_tokenize(raw)\n"
      ],
      "metadata": {
        "id": "PXg_xbLGOheZ"
      },
      "execution_count": 5,
      "outputs": []
    },
    {
      "cell_type": "code",
      "source": [
        "lemmer = nltk.stem.WordNetLemmatizer()\n",
        "\n",
        "\n",
        "def LemTokens (tokens):\n",
        "  return [lemmer.lemmatize(token) for token in tokens]\n",
        "remove_punct_dict = dict((ord(punct), None) for punct in string.punctuation)\n",
        "\n",
        "def LemNormalize(text):\n",
        "  return LemTokens(nltk.word_tokenize(text.lower().translate(remove_punct_dict)))"
      ],
      "metadata": {
        "id": "Zv30xU2BPJmH"
      },
      "execution_count": 6,
      "outputs": []
    },
    {
      "cell_type": "code",
      "source": [
        "GREETING_INPUTS = (\"hello\", \"hi\", \"greetings\", \"sup\", \"what's up\", \"hey\",)\n",
        "GREETING_RESPONSES = [\"hi\", \"hey\", \"nods\", \"hi there\", \"hello\", \"I am glad! You are talking to me\"]\n",
        "def greeting(sentence):\n",
        "  for word in sentence.split():\n",
        "    if word.lower() in GREETING_INPUTS:\n",
        "      return random.choice(GREETING_RESPONSES)"
      ],
      "metadata": {
        "id": "tCIWgesYPlH8"
      },
      "execution_count": 7,
      "outputs": []
    },
    {
      "cell_type": "code",
      "source": [
        "def response(user_response):\n",
        "  robo_response= ''\n",
        "  sent_tokens.append(user_response)\n",
        "\n",
        "  TfidfVec = TfidfVectorizer(tokenizer=LemNormalize, stop_words='english')\n",
        "\n",
        "  tfidf = TfidfVec.fit_transform(sent_tokens)\n",
        "\n",
        "  vals = cosine_similarity( tfidf[- 1], tfidf )\n",
        "\n",
        "  idx=vals.argsort()[0][-2]\n",
        "\n",
        "  flat = vals.flatten()\n",
        "\n",
        "  flat.sort()\n",
        "\n",
        "  req_tfidf = flat[-2]\n",
        "\n",
        "  if(req_tfidf==0):\n",
        "    robo_response=robo_response+\"I am sorry! I don't understand you\"\n",
        "    return robo_response\n",
        "\n",
        "  else:\n",
        "    robo_response = robo_response+sent_tokens[idx]\n",
        "    return robo_response"
      ],
      "metadata": {
        "id": "TroefOI1QZ79"
      },
      "execution_count": 9,
      "outputs": []
    },
    {
      "cell_type": "code",
      "source": [
        "flag=True\n",
        "\n",
        "print(\"TOBO: My name is Tobo. I will answer your queries about Chatbots. If you want to exit, type Bye!\")\n",
        "\n",
        "while(flag==True):\n",
        "  user_response = input()\n",
        "\n",
        "  user_response = user_response.lower()\n",
        "\n",
        "  if(user_response!='bye' ):\n",
        "    if(user_response=='thanks' or user_response=='thank you'):\n",
        "      flag=False\n",
        "      print(\"TOBO: You are welcome..\")\n",
        "    else:\n",
        "      if(greeting(user_response)!=None):\n",
        "        print(\"TOBO: \"+greeting(user_response))\n",
        "      else:\n",
        "        print(\"TOBO: \", end=\"\")\n",
        "\n",
        "        print(response(user_response))\n",
        "        sent_tokens.remove(user_response)\n",
        "  else:\n",
        "    flag=False\n",
        "\n",
        "    print(\"TOBO: Bye! take care..\")\n"
      ],
      "metadata": {
        "colab": {
          "base_uri": "https://localhost:8080/"
        },
        "id": "yBRFnhVyRqga",
        "outputId": "d46e9dbe-43bb-48de-eca2-75bdfb248df7"
      },
      "execution_count": 15,
      "outputs": [
        {
          "output_type": "stream",
          "name": "stdout",
          "text": [
            "TOBO: My name is Tobo. I will answer your queries about Chatbots. If you want to exit, type Bye!\n",
            "hello\n",
            "TOBO: hello\n",
            "what is active learning\n",
            "TOBO: active learning (subset of machine learning) is a kind of query-based learning where the user queries for specific information based on a certain region of interest.\n",
            "what is assumption?\n",
            "TOBO: the fundamental assumption behind the active learner algorithm concept is that an ml algorithm could potentially reach a higher level of accuracy while using a smaller number of training labels if it were allowed to choose the data it wants to learn from.\n",
            "thanks\n",
            "TOBO: You are welcome..\n"
          ]
        }
      ]
    }
  ]
}